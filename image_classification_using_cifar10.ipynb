{
 "cells": [
  {
   "cell_type": "code",
   "execution_count": 1,
   "id": "670d0dfa",
   "metadata": {},
   "outputs": [],
   "source": [
    "import tensorflow as tf\n",
    "from tensorflow.keras import datasets,layers,models\n",
    "import matplotlib.pyplot as plt\n",
    "import numpy as np\n",
    "from tensorflow import keras"
   ]
  },
  {
   "cell_type": "markdown",
   "id": "b2ae9719",
   "metadata": {},
   "source": [
    "# Load data"
   ]
  },
  {
   "cell_type": "code",
   "execution_count": 2,
   "id": "9db01d62",
   "metadata": {},
   "outputs": [],
   "source": [
    "(X_train,y_train),(X_test,y_test)=datasets.cifar10.load_data()"
   ]
  },
  {
   "cell_type": "code",
   "execution_count": 4,
   "id": "f4dceff9",
   "metadata": {},
   "outputs": [
    {
     "name": "stdout",
     "output_type": "stream",
     "text": [
      "(50000, 32, 32, 3)\n",
      "(10000, 32, 32, 3)\n"
     ]
    }
   ],
   "source": [
    "print(X_train.shape)\n",
    "print(X_test.shape)"
   ]
  },
  {
   "cell_type": "code",
   "execution_count": 5,
   "id": "ca9fcbfe",
   "metadata": {},
   "outputs": [
    {
     "data": {
      "text/plain": [
       "array([[[ 59,  62,  63],\n",
       "        [ 43,  46,  45],\n",
       "        [ 50,  48,  43],\n",
       "        ...,\n",
       "        [158, 132, 108],\n",
       "        [152, 125, 102],\n",
       "        [148, 124, 103]],\n",
       "\n",
       "       [[ 16,  20,  20],\n",
       "        [  0,   0,   0],\n",
       "        [ 18,   8,   0],\n",
       "        ...,\n",
       "        [123,  88,  55],\n",
       "        [119,  83,  50],\n",
       "        [122,  87,  57]],\n",
       "\n",
       "       [[ 25,  24,  21],\n",
       "        [ 16,   7,   0],\n",
       "        [ 49,  27,   8],\n",
       "        ...,\n",
       "        [118,  84,  50],\n",
       "        [120,  84,  50],\n",
       "        [109,  73,  42]],\n",
       "\n",
       "       ...,\n",
       "\n",
       "       [[208, 170,  96],\n",
       "        [201, 153,  34],\n",
       "        [198, 161,  26],\n",
       "        ...,\n",
       "        [160, 133,  70],\n",
       "        [ 56,  31,   7],\n",
       "        [ 53,  34,  20]],\n",
       "\n",
       "       [[180, 139,  96],\n",
       "        [173, 123,  42],\n",
       "        [186, 144,  30],\n",
       "        ...,\n",
       "        [184, 148,  94],\n",
       "        [ 97,  62,  34],\n",
       "        [ 83,  53,  34]],\n",
       "\n",
       "       [[177, 144, 116],\n",
       "        [168, 129,  94],\n",
       "        [179, 142,  87],\n",
       "        ...,\n",
       "        [216, 184, 140],\n",
       "        [151, 118,  84],\n",
       "        [123,  92,  72]]], dtype=uint8)"
      ]
     },
     "execution_count": 5,
     "metadata": {},
     "output_type": "execute_result"
    }
   ],
   "source": [
    "X_train[0]"
   ]
  },
  {
   "cell_type": "code",
   "execution_count": 6,
   "id": "849eada8",
   "metadata": {},
   "outputs": [
    {
     "data": {
      "text/plain": [
       "<matplotlib.image.AxesImage at 0x1ac81f8f0d0>"
      ]
     },
     "execution_count": 6,
     "metadata": {},
     "output_type": "execute_result"
    },
    {
     "data": {
      "image/png": "[encoded data removed]",
      "text/plain": [
       "<Figure size 1080x360 with 1 Axes>"
      ]
     },
     "metadata": {
      "needs_background": "light"
     },
     "output_type": "display_data"
    }
   ],
   "source": [
    "plt.figure(figsize=(15,5))\n",
    "plt.imshow(X_train[0])"
   ]
  },
  {
   "cell_type": "code",
   "execution_count": 7,
   "id": "1455f29d",
   "metadata": {},
   "outputs": [
    {
     "data": {
      "text/plain": [
       "<matplotlib.image.AxesImage at 0x1ac826aa100>"
      ]
     },
     "execution_count": 7,
     "metadata": {},
     "output_type": "execute_result"
    },
    {
     "data": {
      "image/png": "[encoded data removed]",
      "text/plain": [
       "<Figure size 1080x360 with 1 Axes>"
      ]
     },
     "metadata": {
      "needs_background": "light"
     },
     "output_type": "display_data"
    }
   ],
   "source": [
    "plt.figure(figsize=(15,5))\n",
    "plt.imshow(X_train[1])"
   ]
  },
  {
   "cell_type": "markdown",
   "id": "75b92a59",
   "metadata": {},
   "source": [
    "# Preprocessing :"
   ]
  },
  {
   "cell_type": "code",
   "execution_count": 8,
   "id": "b858f771",
   "metadata": {},
   "outputs": [],
   "source": [
    "y_train=y_train.reshape(-1,)"
   ]
  },
  {
   "cell_type": "code",
   "execution_count": 9,
   "id": "2a02884a",
   "metadata": {},
   "outputs": [
    {
     "data": {
      "text/plain": [
       "(50000,)"
      ]
     },
     "execution_count": 9,
     "metadata": {},
     "output_type": "execute_result"
    }
   ],
   "source": [
    "y_train.shape"
   ]
  },
  {
   "cell_type": "code",
   "execution_count": 10,
   "id": "3c12e308",
   "metadata": {},
   "outputs": [],
   "source": [
    "X_train_scaled=X_train/255\n",
    "X_test_scaled=X_test/255"
   ]
  },
  {
   "cell_type": "code",
   "execution_count": 11,
   "id": "9c2aacbb",
   "metadata": {},
   "outputs": [],
   "source": [
    "y_train_categorical=keras.utils.to_categorical(y_train,num_classes=10,dtype='float32')\n",
    "y_test_categorical=keras.utils.to_categorical(y_test,num_classes=10,dtype='float32')"
   ]
  },
  {
   "cell_type": "code",
   "execution_count": 14,
   "id": "5510c55b",
   "metadata": {},
   "outputs": [
    {
     "name": "stdout",
     "output_type": "stream",
     "text": [
      "(50000, 10)\n",
      "(10000, 10)\n"
     ]
    }
   ],
   "source": [
    "print(y_train_categorical.shape)\n",
    "print(y_test_categorical.shape)"
   ]
  },
  {
   "cell_type": "code",
   "execution_count": 15,
   "id": "8966ffbb",
   "metadata": {},
   "outputs": [],
   "source": [
    "model=keras.Sequential([\n",
    "    keras.layers.Flatten(input_shape=(32,32,3)),\n",
    "    keras.layers.Dense(3000,activation='relu'),\n",
    "    keras.layers.Dense(1000,activation='relu'),\n",
    "    keras.layers.Dense(10,activation='sigmoid')\n",
    "    \n",
    "])"
   ]
  },
  {
   "cell_type": "code",
   "execution_count": 16,
   "id": "971e222a",
   "metadata": {},
   "outputs": [],
   "source": [
    "model.compile(optimizer='SGD',loss='categorical_crossentropy',metrics=['accuracy'])"
   ]
  },
  {
   "cell_type": "code",
   "execution_count": 17,
   "id": "cd006478",
   "metadata": {},
   "outputs": [
    {
     "name": "stdout",
     "output_type": "stream",
     "text": [
      "Epoch 1/5\n",
      "1563/1563 [==============================] - 67s 43ms/step - loss: nan - accuracy: 0.0998\n",
      "Epoch 2/5\n",
      "1563/1563 [==============================] - 63s 41ms/step - loss: nan - accuracy: 0.1000\n",
      "Epoch 3/5\n",
      "1563/1563 [==============================] - 70s 45ms/step - loss: nan - accuracy: 0.1000\n",
      "Epoch 4/5\n",
      "1563/1563 [==============================] - 68s 43ms/step - loss: nan - accuracy: 0.1000\n",
      "Epoch 5/5\n",
      "1563/1563 [==============================] - 75s 48ms/step - loss: nan - accuracy: 0.1000\n"
     ]
    },
    {
     "data": {
      "text/plain": [
       "<keras.callbacks.History at 0x1ac8387c4f0>"
      ]
     },
     "execution_count": 17,
     "metadata": {},
     "output_type": "execute_result"
    }
   ],
   "source": [
    "model.fit(X_train,y_train_categorical,epochs=5)"
   ]
  },
  {
   "cell_type": "code",
   "execution_count": 18,
   "id": "559a2252",
   "metadata": {},
   "outputs": [
    {
     "name": "stdout",
     "output_type": "stream",
     "text": [
      "classification report:\n",
      "               precision    recall  f1-score   support\n",
      "\n",
      "           0       0.10      1.00      0.18      1000\n",
      "           1       0.00      0.00      0.00      1000\n",
      "           2       0.00      0.00      0.00      1000\n",
      "           3       0.00      0.00      0.00      1000\n",
      "           4       0.00      0.00      0.00      1000\n",
      "           5       0.00      0.00      0.00      1000\n",
      "           6       0.00      0.00      0.00      1000\n",
      "           7       0.00      0.00      0.00      1000\n",
      "           8       0.00      0.00      0.00      1000\n",
      "           9       0.00      0.00      0.00      1000\n",
      "\n",
      "    accuracy                           0.10     10000\n",
      "   macro avg       0.01      0.10      0.02     10000\n",
      "weighted avg       0.01      0.10      0.02     10000\n",
      "\n"
     ]
    },
    {
     "name": "stderr",
     "output_type": "stream",
     "text": [
      "C:\\Users\\DELL\\anaconda3\\lib\\site-packages\\sklearn\\metrics\\_classification.py:1248: UndefinedMetricWarning: Precision and F-score are ill-defined and being set to 0.0 in labels with no predicted samples. Use `zero_division` parameter to control this behavior.\n",
      "  _warn_prf(average, modifier, msg_start, len(result))\n",
      "C:\\Users\\DELL\\anaconda3\\lib\\site-packages\\sklearn\\metrics\\_classification.py:1248: UndefinedMetricWarning: Precision and F-score are ill-defined and being set to 0.0 in labels with no predicted samples. Use `zero_division` parameter to control this behavior.\n",
      "  _warn_prf(average, modifier, msg_start, len(result))\n",
      "C:\\Users\\DELL\\anaconda3\\lib\\site-packages\\sklearn\\metrics\\_classification.py:1248: UndefinedMetricWarning: Precision and F-score are ill-defined and being set to 0.0 in labels with no predicted samples. Use `zero_division` parameter to control this behavior.\n",
      "  _warn_prf(average, modifier, msg_start, len(result))\n"
     ]
    }
   ],
   "source": [
    "from sklearn.metrics import confusion_matrix,classification_report\n",
    "import numpy as np\n",
    "y_pred=model.predict(X_test)\n",
    "y_pred_classes=[np.argmax(element) for element in y_pred]\n",
    "print('classification report:\\n',classification_report(y_test,y_pred_classes))"
   ]
  },
  {
   "cell_type": "markdown",
   "id": "f9d35cb6",
   "metadata": {},
   "source": [
    "# CNN"
   ]
  },
  {
   "cell_type": "code",
   "execution_count": 29,
   "id": "77fc0eda",
   "metadata": {},
   "outputs": [],
   "source": [
    "CNN_model=keras.Sequential([\n",
    "    \n",
    "    layers.Conv2D(filters=32,activation='relu',kernel_size=(3,3),input_shape=(32,32,3)),\n",
    "    layers.MaxPool2D((2,2)),\n",
    "    \n",
    "    layers.Conv2D(filters=64,activation='relu',kernel_size=(3,3)),\n",
    "    layers.MaxPool2D((2,2)),\n",
    "    \n",
    "    keras.layers.Flatten(),\n",
    "    keras.layers.Dense(64,activation='relu'),\n",
    "    keras.layers.Dense(10,activation='softmax')\n",
    "    \n",
    "])"
   ]
  },
  {
   "cell_type": "code",
   "execution_count": 30,
   "id": "f115ee9a",
   "metadata": {},
   "outputs": [],
   "source": [
    "CNN_model.compile(optimizer='adam',loss='sparse_categorical_crossentropy',metrics=['accuracy'])"
   ]
  },
  {
   "cell_type": "code",
   "execution_count": 31,
   "id": "d078bbaf",
   "metadata": {},
   "outputs": [
    {
     "name": "stdout",
     "output_type": "stream",
     "text": [
      "Epoch 1/20\n",
      "1563/1563 [==============================] - 28s 18ms/step - loss: 1.9439 - accuracy: 0.3919\n",
      "Epoch 2/20\n",
      "1563/1563 [==============================] - 29s 19ms/step - loss: 1.2932 - accuracy: 0.5431\n",
      "Epoch 3/20\n",
      "1563/1563 [==============================] - 24s 15ms/step - loss: 1.1360 - accuracy: 0.6054\n",
      "Epoch 4/20\n",
      "1563/1563 [==============================] - 25s 16ms/step - loss: 1.0242 - accuracy: 0.6455\n",
      "Epoch 5/20\n",
      "1563/1563 [==============================] - 27s 17ms/step - loss: 0.9398 - accuracy: 0.6731\n",
      "Epoch 6/20\n",
      "1563/1563 [==============================] - 25s 16ms/step - loss: 0.8731 - accuracy: 0.6963\n",
      "Epoch 7/20\n",
      "1563/1563 [==============================] - 26s 16ms/step - loss: 0.7980 - accuracy: 0.7242\n",
      "Epoch 8/20\n",
      "1563/1563 [==============================] - 23s 15ms/step - loss: 0.7483 - accuracy: 0.7405\n",
      "Epoch 9/20\n",
      "1563/1563 [==============================] - 26s 17ms/step - loss: 0.6949 - accuracy: 0.7563\n",
      "Epoch 10/20\n",
      "1563/1563 [==============================] - 26s 17ms/step - loss: 0.6506 - accuracy: 0.7732\n",
      "Epoch 11/20\n",
      "1563/1563 [==============================] - 28s 18ms/step - loss: 0.6096 - accuracy: 0.7874\n",
      "Epoch 12/20\n",
      "1563/1563 [==============================] - 26s 17ms/step - loss: 0.5723 - accuracy: 0.8009\n",
      "Epoch 13/20\n",
      "1563/1563 [==============================] - 25s 16ms/step - loss: 0.5402 - accuracy: 0.8113\n",
      "Epoch 14/20\n",
      "1563/1563 [==============================] - 26s 17ms/step - loss: 0.5178 - accuracy: 0.8188\n",
      "Epoch 15/20\n",
      "1563/1563 [==============================] - 28s 18ms/step - loss: 0.4838 - accuracy: 0.8309\n",
      "Epoch 16/20\n",
      "1563/1563 [==============================] - 26s 17ms/step - loss: 0.4613 - accuracy: 0.8387\n",
      "Epoch 17/20\n",
      "1563/1563 [==============================] - 26s 16ms/step - loss: 0.4406 - accuracy: 0.8471\n",
      "Epoch 18/20\n",
      "1563/1563 [==============================] - 25s 16ms/step - loss: 0.4275 - accuracy: 0.8499\n",
      "Epoch 19/20\n",
      "1563/1563 [==============================] - 27s 17ms/step - loss: 0.4110 - accuracy: 0.8578\n",
      "Epoch 20/20\n",
      "1563/1563 [==============================] - 25s 16ms/step - loss: 0.3891 - accuracy: 0.8643\n"
     ]
    },
    {
     "data": {
      "text/plain": [
       "<keras.callbacks.History at 0x1acde2a7c40>"
      ]
     },
     "execution_count": 31,
     "metadata": {},
     "output_type": "execute_result"
    }
   ],
   "source": [
    "CNN_model.fit(X_train,y_train,epochs=20)"
   ]
  },
  {
   "cell_type": "code",
   "execution_count": 32,
   "id": "7fb965de",
   "metadata": {},
   "outputs": [
    {
     "name": "stdout",
     "output_type": "stream",
     "text": [
      "313/313 [==============================] - 1s 4ms/step - loss: 1.8807 - accuracy: 0.6224\n"
     ]
    },
    {
     "data": {
      "text/plain": [
       "[1.8807246685028076, 0.6223999857902527]"
      ]
     },
     "execution_count": 32,
     "metadata": {},
     "output_type": "execute_result"
    }
   ],
   "source": [
    "CNN_model.evaluate(X_test,y_test)"
   ]
  },
  {
   "cell_type": "code",
   "execution_count": 33,
   "id": "a1b84223",
   "metadata": {},
   "outputs": [
    {
     "data": {
      "text/plain": [
       "array([[6.3902196e-03, 4.1041011e-03, 4.1360296e-02, 2.2324103e-01,\n",
       "        6.9965906e-03, 4.0683918e-02, 6.3262635e-01, 6.2253093e-03,\n",
       "        7.8262240e-03, 3.0546026e-02],\n",
       "       [1.7131226e-05, 1.3375402e-04, 1.9843571e-11, 9.1664686e-13,\n",
       "        8.3703330e-13, 9.4038625e-16, 8.8540540e-15, 7.7493882e-13,\n",
       "        9.9984908e-01, 6.2322836e-10],\n",
       "       [1.0876854e-02, 3.3297171e-04, 1.5037867e-06, 1.6792481e-03,\n",
       "        2.5013589e-05, 1.4628863e-03, 3.7413545e-05, 1.1924630e-03,\n",
       "        9.8434240e-01, 4.9293845e-05],\n",
       "       [9.8142070e-01, 1.3709865e-06, 5.6974091e-05, 6.0679434e-07,\n",
       "        5.0184393e-04, 1.9061663e-09, 1.3911925e-07, 1.1270771e-08,\n",
       "        1.8018462e-02, 1.4733504e-09],\n",
       "       [5.5452678e-05, 4.2525845e-04, 5.6135243e-01, 3.8121432e-02,\n",
       "        1.8395342e-01, 1.5556865e-03, 2.1445811e-01, 9.7502289e-06,\n",
       "        6.6415079e-05, 2.0484908e-06]], dtype=float32)"
      ]
     },
     "execution_count": 33,
     "metadata": {},
     "output_type": "execute_result"
    }
   ],
   "source": [
    "y_pred2_CNN=CNN_model.predict(X_test)\n",
    "y_pred2_CNN[:5]"
   ]
  },
  {
   "cell_type": "code",
   "execution_count": 34,
   "id": "3aa7c6e0",
   "metadata": {},
   "outputs": [
    {
     "data": {
      "text/plain": [
       "1"
      ]
     },
     "execution_count": 34,
     "metadata": {},
     "output_type": "execute_result"
    }
   ],
   "source": [
    "np.argmax([5,12,1,2])"
   ]
  },
  {
   "cell_type": "code",
   "execution_count": 35,
   "id": "a48bd74f",
   "metadata": {},
   "outputs": [
    {
     "data": {
      "text/plain": [
       "6"
      ]
     },
     "execution_count": 35,
     "metadata": {},
     "output_type": "execute_result"
    }
   ],
   "source": [
    "np.argmax(y_pred2_CNN[0])"
   ]
  },
  {
   "cell_type": "code",
   "execution_count": 36,
   "id": "3f6194fb",
   "metadata": {},
   "outputs": [
    {
     "data": {
      "text/plain": [
       "[6, 8, 8, 0, 2]"
      ]
     },
     "execution_count": 36,
     "metadata": {},
     "output_type": "execute_result"
    }
   ],
   "source": [
    "y_classes=[np.argmax(element) for element in y_pred2_CNN]\n",
    "y_classes[:5]"
   ]
  },
  {
   "cell_type": "code",
   "execution_count": 37,
   "id": "bd6340c2",
   "metadata": {},
   "outputs": [
    {
     "data": {
      "text/plain": [
       "array([[3],\n",
       "       [8],\n",
       "       [8],\n",
       "       [0],\n",
       "       [6]], dtype=uint8)"
      ]
     },
     "execution_count": 37,
     "metadata": {},
     "output_type": "execute_result"
    }
   ],
   "source": [
    "y_test[:5]"
   ]
  },
  {
   "cell_type": "code",
   "execution_count": null,
   "id": "2f57a06d",
   "metadata": {},
   "outputs": [],
   "source": [
    "#==>the prediction is wrong in the 1st and 5th case"
   ]
  }
 ],
 "metadata": {
  "kernelspec": {
   "display_name": "Python 3 (ipykernel)",
   "language": "python",
   "name": "python3"
  },
  "language_info": {
   "codemirror_mode": {
    "name": "ipython",
    "version": 3
   },
   "file_extension": ".py",
   "mimetype": "text/x-python",
   "name": "python",
   "nbconvert_exporter": "python",
   "pygments_lexer": "ipython3",
   "version": "3.9.7"
  }
 },
 "nbformat": 4,
 "nbformat_minor": 5
}
